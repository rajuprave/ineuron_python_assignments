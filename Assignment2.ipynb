{
 "cells": [
  {
   "cell_type": "markdown",
   "metadata": {},
   "source": [
    "# Task1\n",
    "### Program1.1"
   ]
  },
  {
   "cell_type": "code",
   "execution_count": 1,
   "metadata": {},
   "outputs": [
    {
     "data": {
      "text/plain": [
       "120"
      ]
     },
     "execution_count": 1,
     "metadata": {},
     "output_type": "execute_result"
    }
   ],
   "source": [
    "def do_sum(a,b): \n",
    "    return a*b\n",
    "\n",
    "def my_reduce(func, sequence):\n",
    "    iter_val = iter(sequence) # converting the function to iterator\n",
    "    start_val = next(iter_val) # pull the 1st value and store in start_val. This also removes that value from iter_val\n",
    "    for i in iter_val:\n",
    "        start_val = func(start_val, i)\n",
    "    return start_val\n",
    "\n",
    "my_reduce(do_sum, [1,2,3,4,5])"
   ]
  },
  {
   "cell_type": "markdown",
   "metadata": {},
   "source": [
    "# Task1\n",
    "## Program1.2"
   ]
  },
  {
   "cell_type": "code",
   "execution_count": 2,
   "metadata": {},
   "outputs": [
    {
     "name": "stdout",
     "output_type": "stream",
     "text": [
      "The filtered vowels are:\n",
      "a\n",
      "e\n",
      "i\n",
      "o\n"
     ]
    }
   ],
   "source": [
    "# list of alphabets\n",
    "alphabets = ['a', 'b', 'd', 'e', 'i', 'j', 'o']\n",
    "\n",
    "# function that filters vowels\n",
    "def filterVowels(alphabet):\n",
    "    vowels = ['a', 'e', 'i', 'o', 'u']\n",
    "    if(alphabet in vowels):\n",
    "        return True\n",
    "    else:\n",
    "        return False\n",
    "\n",
    "# myfilter function\n",
    "def myfilter(func, sequence):\n",
    "    iter_val = iter(sequence)\n",
    "    for i in iter_val:\n",
    "        if func(i) == True:\n",
    "            yield i\n",
    "\n",
    "filteredVowels = myfilter(filterVowels, alphabets)\n",
    "\n",
    "print('The filtered vowels are:')\n",
    "for vowel in filteredVowels:\n",
    "    print(vowel)"
   ]
  },
  {
   "cell_type": "markdown",
   "metadata": {},
   "source": [
    "# Task1\n",
    "## Program2"
   ]
  },
  {
   "cell_type": "code",
   "execution_count": 3,
   "metadata": {},
   "outputs": [
    {
     "data": {
      "text/plain": [
       "['A', 'C', 'A', 'D', 'G', 'I', 'L', 'D']"
      ]
     },
     "execution_count": 3,
     "metadata": {},
     "output_type": "execute_result"
    }
   ],
   "source": [
    "[x.upper() for x in 'acadgild']\n",
    "\n",
    "# ['A', 'C', 'A', 'D', 'G', 'I', 'L', 'D']"
   ]
  },
  {
   "cell_type": "code",
   "execution_count": 4,
   "metadata": {},
   "outputs": [
    {
     "data": {
      "text/plain": [
       "['x', 'xx', 'xxx', 'xxxx', 'y', 'yy', 'yyy', 'yyyy', 'z', 'zz', 'zzz', 'zzzz']"
      ]
     },
     "execution_count": 4,
     "metadata": {},
     "output_type": "execute_result"
    }
   ],
   "source": [
    "[i*j for i in 'xyz' for j in range(1,5)]\n",
    "\n",
    "# ['x', 'xx', 'xxx', 'xxxx', 'y', 'yy', 'yyy', 'yyyy', 'z', 'zz', 'zzz', 'zzzz']"
   ]
  },
  {
   "cell_type": "code",
   "execution_count": 5,
   "metadata": {},
   "outputs": [
    {
     "data": {
      "text/plain": [
       "['x', 'y', 'z', 'xx', 'yy', 'zz', 'xxx', 'yyy', 'zzz', 'xxxx', 'yyyy', 'zzzz']"
      ]
     },
     "execution_count": 5,
     "metadata": {},
     "output_type": "execute_result"
    }
   ],
   "source": [
    "[i*j  for j in range(1,5) for i in 'xyz']\n",
    "\n",
    "# ['x', 'y', 'z', 'xx', 'yy', 'zz', 'xx', 'yy', 'zz', 'xxxx', 'yyyy', 'zzzz']"
   ]
  },
  {
   "cell_type": "code",
   "execution_count": 6,
   "metadata": {},
   "outputs": [
    {
     "data": {
      "text/plain": [
       "[[2], [3], [4], [3], [4], [5], [4], [5], [6]]"
      ]
     },
     "execution_count": 6,
     "metadata": {},
     "output_type": "execute_result"
    }
   ],
   "source": [
    "[[x+i] for x in range(2,5) for i in range(3)]\n",
    "\n",
    "# [[2], [3], [4], [3], [4], [5], [4], [5], [6]]"
   ]
  },
  {
   "cell_type": "code",
   "execution_count": 7,
   "metadata": {},
   "outputs": [
    {
     "data": {
      "text/plain": [
       "[[3, 4, 5, 6], [4, 5, 6, 7], [5, 6, 7, 8], [6, 7, 8, 9]]"
      ]
     },
     "execution_count": 7,
     "metadata": {},
     "output_type": "execute_result"
    }
   ],
   "source": [
    "[[1+x, 2+x, 3+x, 4+x] for x in range(2,6)]\n",
    "\n",
    "# [[2, 3, 4, 5], [3, 4, 5, 6], [4, 5, 6, 7], [5, 6, 7, 8]]"
   ]
  },
  {
   "cell_type": "code",
   "execution_count": 8,
   "metadata": {},
   "outputs": [
    {
     "data": {
      "text/plain": [
       "[(1, 1), (2, 1), (3, 1), (1, 2), (2, 2), (3, 2), (1, 3), (2, 3), (3, 3)]"
      ]
     },
     "execution_count": 8,
     "metadata": {},
     "output_type": "execute_result"
    }
   ],
   "source": [
    "[(i,x) for x in range(1,4) for i in range(1,4)]\n",
    "\n",
    "# [(1, 1), (2, 1), (3, 1), (1, 2), (2, 2), (3, 2), (1, 3), (2, 3), (3, 3)]"
   ]
  },
  {
   "cell_type": "markdown",
   "metadata": {},
   "source": [
    "# Task1\n",
    "### Program3"
   ]
  },
  {
   "cell_type": "code",
   "execution_count": 9,
   "metadata": {},
   "outputs": [
    {
     "name": "stdout",
     "output_type": "stream",
     "text": [
      "Word \"qwerty\" is the longest with 6 character\n"
     ]
    }
   ],
   "source": [
    "word = ['asdf', 'qwerty', 'sdf']\n",
    "\n",
    "def longestWord(lst):\n",
    "    dicts = {}\n",
    "    for i in lst:\n",
    "        dicts[i] = len(i)\n",
    "    highest_value = sorted(dicts.values(),reverse=True)[0]\n",
    "    for key,value in dicts.items():\n",
    "        if value == highest_value:\n",
    "            print('Word \"{}\" is the longest with {} character'.format(key, value))\n",
    "\n",
    "longestWord(word)"
   ]
  },
  {
   "cell_type": "markdown",
   "metadata": {},
   "source": [
    "# Task2\n",
    "### Program1.1"
   ]
  },
  {
   "cell_type": "code",
   "execution_count": 21,
   "metadata": {},
   "outputs": [
    {
     "name": "stdout",
     "output_type": "stream",
     "text": [
      "Enter the sides of a triangle, separated by ,5,4,3\n",
      "a = 5 b =  4 c = 3\n",
      "6.0\n"
     ]
    }
   ],
   "source": [
    "class get_triangle:\n",
    "    def __init__(self,a,b,c):\n",
    "        self.a,self.b,self.c = int(a),int(b),int(c)\n",
    "        print(\"a = \" + str(self.a) + \" b =  \" + str(self.b) + \" c = \" + str(self.c))\n",
    "\n",
    "class area_of_triangle(get_triangle):\n",
    "    def calc_area(self):\n",
    "        s = (int(self.a)+int(self.b)+ int(self.c))/2\n",
    "        area = (s*(s-self.a)*(s-self.b)*(s-self.c)) ** 0.5\n",
    "        return area\n",
    "\n",
    "a,b,c = input(\"Enter the sides of a triangle, separated by ,\").split(',')\n",
    "\n",
    "area = area_of_triangle(a,b,c)\n",
    "print(area.calc_area())"
   ]
  },
  {
   "cell_type": "markdown",
   "metadata": {},
   "source": [
    "# Task2\n",
    "### Program1.2"
   ]
  },
  {
   "cell_type": "code",
   "execution_count": 22,
   "metadata": {},
   "outputs": [
    {
     "name": "stdout",
     "output_type": "stream",
     "text": [
      "Provide the minumum length : 3\n"
     ]
    },
    {
     "data": {
      "text/plain": [
       "['asdf', 'sdfss', 'ghsdfhwre', 'qwetryufdhgdf']"
      ]
     },
     "execution_count": 22,
     "metadata": {},
     "output_type": "execute_result"
    }
   ],
   "source": [
    "def filter_long_words(lst_words, n):\n",
    "    dict = {}\n",
    "    lst = []\n",
    "    long_len = n\n",
    "    lst_words = lst_words\n",
    "    for i in lst_words:\n",
    "        dict[i] = len(i)\n",
    "    for key, value in dict.items():\n",
    "        if value > long_len:\n",
    "            lst.append(key)\n",
    "    return lst\n",
    "\n",
    "\n",
    "lst_words = ['asdf', 'f', 'sdfss', 'ghsdfhwre', 'qwetryufdhgdf','sdf', 'ds', 'sdf']\n",
    "n = int(input(\"Provide the minumum length : \"))\n",
    "filter_long_words(lst_words, n)"
   ]
  },
  {
   "cell_type": "markdown",
   "metadata": {},
   "source": [
    "# Task2\n",
    "### Program2.1"
   ]
  },
  {
   "cell_type": "code",
   "execution_count": 12,
   "metadata": {},
   "outputs": [
    {
     "name": "stdout",
     "output_type": "stream",
     "text": [
      "[4, 1, 5, 9, 13, 3, 2, 3]\n"
     ]
    }
   ],
   "source": [
    "def word_to_len(lst_word):\n",
    "    length = len(lst_word)\n",
    "    return length\n",
    "\n",
    "lst_words = ['asdf', 'f', 'sdfss', 'ghsdfhwre', 'qwetryufdhgdf','sdf', 'ds', 'sdf']\n",
    "lst = map(word_to_len, lst_words)\n",
    "\n",
    "print(list(lst))"
   ]
  },
  {
   "cell_type": "markdown",
   "metadata": {},
   "source": [
    "# Task2\n",
    "### Program2.2"
   ]
  },
  {
   "cell_type": "code",
   "execution_count": 19,
   "metadata": {},
   "outputs": [
    {
     "name": "stdout",
     "output_type": "stream",
     "text": [
      "Enter list of charaters separated by ',' : a,f,e,d,w,g,h,j,i\n",
      "['a', 'f', 'e', 'd', 'w', 'g', 'h', 'j', 'i']\n",
      "['True', 'False', 'True', 'False', 'False', 'False', 'False', 'False', 'True']\n"
     ]
    }
   ],
   "source": [
    "input_lst = input(\"Enter list of charaters separated by ',' : \").split(',')\n",
    "print(input_lst)\n",
    "\n",
    "def validate_vowels(input_lst):\n",
    "    lst = []\n",
    "    vowels = ['a', 'e' ,'i' , 'o', 'u']\n",
    "    for i in input_lst:\n",
    "        if vowels.count(i) > 0:\n",
    "            lst.append('True')\n",
    "        else:\n",
    "            lst.append('False')\n",
    "    print(lst)\n",
    "    \n",
    "validate_vowels(input_lst)"
   ]
  }
 ],
 "metadata": {
  "kernelspec": {
   "display_name": "Python 3",
   "language": "python",
   "name": "python3"
  },
  "language_info": {
   "codemirror_mode": {
    "name": "ipython",
    "version": 3
   },
   "file_extension": ".py",
   "mimetype": "text/x-python",
   "name": "python",
   "nbconvert_exporter": "python",
   "pygments_lexer": "ipython3",
   "version": "3.7.6"
  }
 },
 "nbformat": 4,
 "nbformat_minor": 2
}
